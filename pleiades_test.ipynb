{
 "cells": [
  {
   "cell_type": "code",
   "execution_count": 1,
   "metadata": {
    "ExecuteTime": {
     "end_time": "2019-10-16T20:42:37.003210Z",
     "start_time": "2019-10-16T20:42:36.989214Z"
    },
    "scrolled": false
   },
   "outputs": [
    {
     "name": "stdout",
     "output_type": "stream",
     "text": [
      "Created TAP+ (v1.2.1) - Connection:\n",
      "\tHost: gea.esac.esa.int\n",
      "\tUse HTTPS: True\n",
      "\tPort: 443\n",
      "\tSSL Port: 443\n",
      "Created TAP+ (v1.2.1) - Connection:\n",
      "\tHost: geadata.esac.esa.int\n",
      "\tUse HTTPS: True\n",
      "\tPort: 443\n",
      "\tSSL Port: 443\n"
     ]
    },
    {
     "data": {
      "text/html": [
       "<style>.container { width:100% !important; }</style>"
      ],
      "text/plain": [
       "<IPython.core.display.HTML object>"
      ]
     },
     "metadata": {},
     "output_type": "display_data"
    }
   ],
   "source": [
    "from IPython.core.display import display, HTML\n",
    "import ipywidgets as widgets\n",
    "from ipywidgets import interact, interact_manual\n",
    "from astropy.io import ascii\n",
    "\n",
    "from auxiliary import *\n",
    "import warnings\n",
    "import astropy\n",
    "\n",
    "display(HTML(\"<style>.container { width:100% !important; }</style>\"))\n",
    "warnings.filterwarnings(\"ignore\", module='astropy.io.votable.tree')\n",
    "%matplotlib inline"
   ]
  },
  {
   "cell_type": "markdown",
   "metadata": {},
   "source": [
    "# Notebook structure\n",
    "\n",
    "The notebook consists of four classes:\n",
    "\n",
    "- catalogueProcessing\n",
    "    - Used to perform queries and crossmatches\n",
    "- Astrometry\n",
    "    - Currently hosts functions for \n",
    "        - generating histograms\n",
    "        - fitting gaussians\n",
    "    - If HDbscan is implemented, it would go here.\n",
    "- Photometry\n",
    "    - Will have methods for making photometric cuts\n",
    "- Visualization\n",
    "    - Has methods for plotting, including\n",
    "        - Plotting single columns\n",
    "        - Plotting sources overlayed on an image\n",
    "        - Plotting a gaussian fitted to a histogram generated from\n",
    "          an arbitrary axis.\n",
    "    - Will have method for plotting photometric cuts over the appropriate diagram\n",
    "\n",
    "\n",
    "\n",
    "\n"
   ]
  },
  {
   "cell_type": "markdown",
   "metadata": {
    "ExecuteTime": {
     "end_time": "2019-08-29T01:55:36.640502Z",
     "start_time": "2019-08-29T01:55:26.473195Z"
    }
   },
   "source": [
    "When catalogProcessing is instantiated, it queries gaia, 2mass, and allwise. This class also provides the ability to query any catalog availible from IRSA. __[More info here.](https://irsa.ipac.caltech.edu/docs/program_interface/TAP.html)__\n",
    "\n",
    "Parallax for the cluster is optional and has units of milliarcseconds. If given, the radius is assumed to be physical (in pc), otherwise the radius is assumed to be angular (in degrees)."
   ]
  },
  {
   "cell_type": "code",
   "execution_count": 2,
   "metadata": {
    "ExecuteTime": {
     "start_time": "2019-10-21T10:52:03.766Z"
    },
    "scrolled": false
   },
   "outputs": [
    {
     "name": "stdout",
     "output_type": "stream",
     "text": [
      "Querying Gaia...\n",
      "Creating query...\n",
      "INFO: Query finished. [astroquery.utils.tap.core]\n",
      "Retrieving results...\n",
      "Done querying Gaia!\n",
      "\n",
      "Querying 2MASS...\n",
      "Created TAP+ (v1.2.1) - Connection:\n",
      "\tHost: irsa.ipac.caltech.edu\n",
      "\tUse HTTPS: True\n",
      "\tPort: 443\n",
      "\tSSL Port: 443\n",
      "Creating query...\n",
      "INFO: Query finished. [astroquery.utils.tap.core]\n",
      "Retrieving results...\n",
      "Done querying 2MASS!\n",
      "\n",
      "Querying AllWISE...\n",
      "Created TAP+ (v1.2.1) - Connection:\n",
      "\tHost: irsa.ipac.caltech.edu\n",
      "\tUse HTTPS: True\n",
      "\tPort: 443\n",
      "\tSSL Port: 443\n",
      "Creating query...\n",
      "INFO: Query finished. [astroquery.utils.tap.core]\n",
      "Retrieving results...\n",
      "Done querying AllWISE!\n",
      "\n",
      "\n",
      "Generating full table...\n",
      "Extracting specified data columns...\n",
      "Renaming columns...\n",
      "Crossmatching Gaia with 2MASS...\n",
      "Crossmatching Gaia with AllWISE...\n",
      "Crossmatching 2MASS with AllWISE...\n",
      "Adding objects that do not appear in all catalogs...\n"
     ]
    },
    {
     "ename": "TypeError",
     "evalue": "tuple indices must be integers, not str",
     "output_type": "error",
     "traceback": [
      "\u001b[0;31m---------------------------------------------------------------------------\u001b[0m",
      "\u001b[0;31mTypeError\u001b[0m                                 Traceback (most recent call last)",
      "\u001b[0;32m<ipython-input-2-ab004e67f861>\u001b[0m in \u001b[0;36m<module>\u001b[0;34m()\u001b[0m\n\u001b[1;32m     15\u001b[0m \u001b[0;34m\u001b[0m\u001b[0m\n\u001b[1;32m     16\u001b[0m \u001b[0;31m# Builds the full data table:\u001b[0m\u001b[0;34m\u001b[0m\u001b[0;34m\u001b[0m\u001b[0m\n\u001b[0;32m---> 17\u001b[0;31m \u001b[0mfull_table\u001b[0m \u001b[0;34m=\u001b[0m \u001b[0mcat_pr\u001b[0m\u001b[0;34m.\u001b[0m\u001b[0mgenerate_full_table\u001b[0m\u001b[0;34m(\u001b[0m\u001b[0mgen_small_table\u001b[0m\u001b[0;34m=\u001b[0m\u001b[0mTrue\u001b[0m\u001b[0;34m)\u001b[0m\u001b[0;34m\u001b[0m\u001b[0m\n\u001b[0m\u001b[1;32m     18\u001b[0m \u001b[0;31m#full_table = Table.read('pleiades_data.dat',format='ascii')\u001b[0m\u001b[0;34m\u001b[0m\u001b[0;34m\u001b[0m\u001b[0m\n\u001b[1;32m     19\u001b[0m \u001b[0;34m\u001b[0m\u001b[0m\n",
      "\u001b[0;32m/home/reeves/Documents/Ay142 Documents/Working Versions/CatalogProcessing.py\u001b[0m in \u001b[0;36mgenerate_full_table\u001b[0;34m(self, gen_small_table)\u001b[0m\n\u001b[1;32m    644\u001b[0m \u001b[0;34m\u001b[0m\u001b[0m\n\u001b[1;32m    645\u001b[0m         \u001b[0;31m# objects in gaia_X_tmass_table that are not in gaia_X_tmass_X_allwise, i.e. objects in Gaia and Tmass but not Allwise\u001b[0m\u001b[0;34m\u001b[0m\u001b[0;34m\u001b[0m\u001b[0m\n\u001b[0;32m--> 646\u001b[0;31m         \u001b[0mdiff1\u001b[0m \u001b[0;34m=\u001b[0m \u001b[0mself\u001b[0m\u001b[0;34m.\u001b[0m\u001b[0mtable_difference\u001b[0m\u001b[0;34m(\u001b[0m\u001b[0mgaia_X_tmass\u001b[0m\u001b[0;34m,\u001b[0m \u001b[0mgaia_X_tmass_X_allwise\u001b[0m\u001b[0;34m,\u001b[0m \u001b[0;34m\"gaia_designation\"\u001b[0m\u001b[0;34m,\u001b[0m \u001b[0;34m\"gaia_designation\"\u001b[0m\u001b[0;34m,\u001b[0m \u001b[0;34m[\u001b[0m\u001b[0;34m\"allwise\"\u001b[0m\u001b[0;34m]\u001b[0m\u001b[0;34m,\u001b[0m \u001b[0mgaia_cat\u001b[0m\u001b[0;34m,\u001b[0m \u001b[0mtmass_cat\u001b[0m\u001b[0;34m,\u001b[0m \u001b[0mallwise_cat\u001b[0m\u001b[0;34m)\u001b[0m\u001b[0;34m\u001b[0m\u001b[0m\n\u001b[0m\u001b[1;32m    647\u001b[0m         \u001b[0mfull_table\u001b[0m \u001b[0;34m=\u001b[0m \u001b[0mvstack\u001b[0m\u001b[0;34m(\u001b[0m\u001b[0mfull_table\u001b[0m\u001b[0;34m,\u001b[0m \u001b[0mdiff1\u001b[0m\u001b[0;34m)\u001b[0m\u001b[0;34m\u001b[0m\u001b[0m\n\u001b[1;32m    648\u001b[0m \u001b[0;34m\u001b[0m\u001b[0m\n",
      "\u001b[0;32m/home/reeves/Documents/Ay142 Documents/Working Versions/CatalogProcessing.py\u001b[0m in \u001b[0;36mtable_difference\u001b[0;34m(self, table1, table2, id_1, id_2, not_in_table1, gaia_cat, tmass_cat, allwise_cat)\u001b[0m\n\u001b[1;32m    470\u001b[0m         \u001b[0;32mfor\u001b[0m \u001b[0mrow\u001b[0m \u001b[0;32min\u001b[0m \u001b[0mtable1\u001b[0m\u001b[0;34m:\u001b[0m\u001b[0;34m\u001b[0m\u001b[0m\n\u001b[1;32m    471\u001b[0m \u001b[0;34m\u001b[0m\u001b[0m\n\u001b[0;32m--> 472\u001b[0;31m             \u001b[0;32mif\u001b[0m \u001b[0mrow\u001b[0m\u001b[0;34m[\u001b[0m\u001b[0mid_1\u001b[0m\u001b[0;34m]\u001b[0m \u001b[0;32min\u001b[0m \u001b[0mtable2\u001b[0m\u001b[0;34m[\u001b[0m\u001b[0mid_2\u001b[0m\u001b[0;34m]\u001b[0m\u001b[0;34m:\u001b[0m\u001b[0;34m\u001b[0m\u001b[0m\n\u001b[0m\u001b[1;32m    473\u001b[0m \u001b[0;34m\u001b[0m\u001b[0m\n\u001b[1;32m    474\u001b[0m                 \u001b[0;32mpass\u001b[0m\u001b[0;34m\u001b[0m\u001b[0m\n",
      "\u001b[0;31mTypeError\u001b[0m: tuple indices must be integers, not str"
     ]
    }
   ],
   "source": [
    "# Define region of interest parameters\n",
    "ra_cen = \"03h47m24s\" # hour angle\n",
    "dec_cen = \"+24d07m00s\" # degrees\n",
    "#plx = 1.8481 # milliarcseconds, optional\n",
    "rad = 0.1 # pc if plx is given, degrees if it is not\n",
    "\n",
    "#coords = str(ra_cen) + \"+\" + str(dec_cen)\n",
    "\n",
    "# Creates an astrio object to read and write tables/log files/etc\n",
    "io = astrio()\n",
    "\n",
    "# Instantiates catalogProcessing:\n",
    "#cat_pr = catalogProcessing(coords,radius=rad)\n",
    "cat_pr = catalogProcessing(ra_cen, dec_cen, radius=rad, io=io)\n",
    "\n",
    "# Builds the full data table:\n",
    "full_table = cat_pr.generate_full_table(gen_small_table=True)\n",
    "#full_table = Table.read('pleiades_data.dat',format='ascii')\n",
    "\n",
    "# Instantiates the Visualization and Photometry classes\n",
    "vis = Visualization(full_table, ra_cen, dec_cen)\n",
    "phot = Photometry(full_table)\n",
    "\n",
    "vis.plot_tables('Gaia RA vs DEC',[full_table],('gaia_ra','Gaia RA'),('gaia_dec','Gaia DEC'), squared=True)\n",
    "\n",
    "# Generates diagnostic error plots:\n",
    "#  proper motion, right ascension\n",
    "vis.plot_error('pmra')\n",
    "#  proper motion, declination\n",
    "vis.plot_error('pmdec')\n",
    "#  parallax\n",
    "vis.plot_error('parallax')"
   ]
  },
  {
   "cell_type": "markdown",
   "metadata": {},
   "source": [
    "Below cell generates a full table consisting of all sources in gaia, 2mass, and allwise at 1pc around the search coordinates (as specified upon instantiation of catalogueProcessing). If a source wasn't crossmatched with a particular catalogue, the column values of this catalogue will be masked.\n",
    "\n",
    "set gen_small_table to False to return a table with all columns from all three surveys"
   ]
  },
  {
   "cell_type": "code",
   "execution_count": null,
   "metadata": {
    "scrolled": false
   },
   "outputs": [],
   "source": [
    "# Generates diagnostic plots of ra, dec, parallax, proper motion, and others.\n",
    "vis.plot_diagnostics()\n",
    "vis.plot(\"variability\",\"phot_g_mean_mag\",invert_y=True)"
   ]
  },
  {
   "cell_type": "markdown",
   "metadata": {},
   "source": [
    "Below cell crossmatches the gaia table with the 2mass table. The xmatch radius is determined by looking at the errors of respective match (nearest neighbour) and selecting only objects that are closer than the combined error radii.\n",
    "\n",
    "The method returns a list of indicies and distances that associates objects in catalogue1 with those in catalogue2."
   ]
  },
  {
   "cell_type": "code",
   "execution_count": null,
   "metadata": {
    "ExecuteTime": {
     "start_time": "2019-10-21T10:52:06.522Z"
    },
    "scrolled": false
   },
   "outputs": [],
   "source": [
    "#xmatch_res = cat_pr.xmatch(cat_pr.gaia, cat_pr.tmass, [\"ra\", \"dec\", \"ra_error\", \"dec_error\"], [\"ra\", \"dec\", \"err_maj\", \"err_min\"])\n",
    "#print(xmatch_res)"
   ]
  },
  {
   "cell_type": "markdown",
   "metadata": {},
   "source": [
    "plot_image_overlay gets images from the list of surveys passed to it and plots the sources from the list aux.Visualization was instantiated with, in this case gaia, superimposed on them.\n",
    "\n",
    "I'll have to do something about overcrowding when there are many sources."
   ]
  },
  {
   "cell_type": "code",
   "execution_count": null,
   "metadata": {
    "ExecuteTime": {
     "start_time": "2019-10-21T10:52:07.800Z"
    },
    "scrolled": false
   },
   "outputs": [],
   "source": [
    "%matplotlib notebook\n",
    "vis.plot_images(full_table, ['DSS2 Red', '2MASS-J', 'WISE 4.6', 'WISE 22'], cats_to_plot=[\"gaia\", \"allwise\"])\n",
    "#https://astroquery.readthedocs.io/en/latest/skyview/skyview.html"
   ]
  },
  {
   "cell_type": "code",
   "execution_count": null,
   "metadata": {
    "ExecuteTime": {
     "end_time": "2019-10-21T09:49:23.088116Z",
     "start_time": "2019-10-21T09:49:22.167405Z"
    },
    "scrolled": true
   },
   "outputs": [],
   "source": [
    "%matplotlib notebook\n",
    "vis.plot_hist(\"parallax\", \"Parallax\")\n",
    "vis.plot_hist(\"pmra\", \"pm RA [mas/yr]\")\n",
    "vis.plot_hist(\"pmdec\", \"pm Dec [mas/yr]\")"
   ]
  },
  {
   "cell_type": "code",
   "execution_count": null,
   "metadata": {
    "ExecuteTime": {
     "end_time": "2019-10-21T09:49:24.454798Z",
     "start_time": "2019-10-21T09:49:23.096096Z"
    },
    "scrolled": false
   },
   "outputs": [],
   "source": [
    "vis.plot(\"gaia_ra\", \"gaia_dec\", squared=True, invert_y=True)\n",
    "vis.plot(\"pmra\", \"pmdec\",xlim=(-30,30),ylim=(-30,30), squared=True, invert_y=True)\n",
    "vis.plot(\"parallax\", \"parallax_error\", xlim=(0,6))\n"
   ]
  },
  {
   "cell_type": "code",
   "execution_count": null,
   "metadata": {},
   "outputs": [],
   "source": [
    "#%matplotlib inline\n",
    "#redder, not_redder = phot.keep_reddest()\n",
    "#vis_redder = Visualization(redder, ra_cen, dec_cen)\n",
    "#vis_redder.plot_diagnostics()"
   ]
  },
  {
   "cell_type": "code",
   "execution_count": null,
   "metadata": {
    "scrolled": true
   },
   "outputs": [],
   "source": [
    "#likely_disks, not_likely_disks = phot.keep_likely_disks()\n",
    "#vis_likely_disks = Visualization(likely_disks, ra_cen, dec_cen)\n",
    "#vis_likely_disks.plot_diagnostics()"
   ]
  },
  {
   "cell_type": "markdown",
   "metadata": {},
   "source": [
    "The next cell runs HDBSCAN on the full_table input. It's set to return not more than 20 clusters - arbitrary, I'm still trying to figure out what works for this. It looks to me like the approach of using min_cluster_size may not be effective, but not using it currently gives me in excess of 200 clusters for this dataset, so another solution is needed.\n",
    "\n",
    "On the plus side, even before applying any photometric cuts, the Pleiades are identified in orange in the plot below, which tells me that the algorithm is robust enough to tolerate some non-ideal behavior in terms of passing it data.\n",
    "\n",
    "When running the algorithm twice, only removing the expected_clusters parameter for the second run, the number of detected clusters changes (in different ways depending on the dataset). I'm looking into ways to vary this and other parameters dynamically to achieve high-quality results."
   ]
  },
  {
   "cell_type": "code",
   "execution_count": null,
   "metadata": {
    "scrolled": true
   },
   "outputs": [],
   "source": [
    "ast = Astrometry(full_table)\n",
    "candidates_table, cluster_membership_full = ast.identify_clusters(full_table, columns=(\"pmra\",\"pmdec\"), expected_clusters = 20, verbose=True)\n",
    "candidates_table, cluster_membership_full = ast.identify_clusters(full_table, columns=(\"pmra\",\"pmdec\"), verbose=True)"
   ]
  },
  {
   "cell_type": "markdown",
   "metadata": {},
   "source": [
    "The cells below apply cuts that select certain parallax ranges. With the parallax constrained, the clustering seems to be much clearer. Again, the Pleiades are identifed, but I think some of the stars identified with the cluster are not in fact part of it. That's part of why I want to incorporate additional columns like parallax in the clustering."
   ]
  }
 ],
 "metadata": {
  "kernelspec": {
   "display_name": "Python 2",
   "language": "python",
   "name": "python2"
  },
  "language_info": {
   "codemirror_mode": {
    "name": "ipython",
    "version": 2
   },
   "file_extension": ".py",
   "mimetype": "text/x-python",
   "name": "python",
   "nbconvert_exporter": "python",
   "pygments_lexer": "ipython2",
   "version": "2.7.17"
  }
 },
 "nbformat": 4,
 "nbformat_minor": 2
}
